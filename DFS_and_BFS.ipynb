{
 "cells": [
  {
   "cell_type": "markdown",
   "metadata": {},
   "source": [
    "# DFS, BFS 기본 구현 문제"
   ]
  },
  {
   "cell_type": "markdown",
   "metadata": {},
   "source": [
    "https://www.acmicpc.net/problem/1260"
   ]
  },
  {
   "cell_type": "code",
   "execution_count": 10,
   "metadata": {
    "scrolled": true
   },
   "outputs": [],
   "source": [
    "import numpy as np\n",
    "information=[4,5,1]\n",
    "connection=[[1,2],[1,3],[1,4],[2,4],[3,4]]\n",
    "#인접행렬 만들기\n",
    "#information=[5, 5, 3]\n",
    "#connection=[[5, 4],[1,2],[3,4],[3,1]]\n",
    "#5 2\n",
    "#1 2\n",
    "#3 4\n",
    "#3 1\n",
    "\n",
    "#인접행렬 만들기\n",
    "#matrix=np.zeros((information[0],information[0])) #노드 개수만큼 영행렬 만들어주기\n",
    "#for i in connection:\n",
    "#    matrix[i[0]-1,i[1]-1]=1\n",
    "#    matrix[i[1]-1,i[0]-1]=1\n",
    "#matrix"
   ]
  },
  {
   "cell_type": "code",
   "execution_count": 11,
   "metadata": {},
   "outputs": [
    {
     "name": "stdout",
     "output_type": "stream",
     "text": [
      "1\n",
      "2\n",
      "3\n",
      "4\n"
     ]
    }
   ],
   "source": [
    "def BFS(information, connection):\n",
    "    matrix=np.zeros((information[0],information[0]))\n",
    "    for i in connection:\n",
    "        matrix[i[0]-1,i[1]-1]=1\n",
    "        matrix[i[1]-1,i[0]-1]=1\n",
    "        \n",
    "    check=list(np.zeros(information[0])) #방문하면 1로 바뀜\n",
    "    queue=[]\n",
    "    queue.append(information[2]) #시작노드 넣어주기\n",
    "    check[information[2]-1]=1 #시작노드를 방문했음을 표시\n",
    "    while queue:\n",
    "        now=queue[0]\n",
    "        print(now) #현재 queue의 젤 앞에 있는 애를 출력\n",
    "        for i in range(information[0]): #노드 전체 개수만큼\n",
    "            if (matrix[now-1][i]==1) & (check[i]!=1): # 연결되어 있고 아직 방문하지 않은 노드일 때\n",
    "                #print(i+1)\n",
    "                check[i]=1 #방문표시\n",
    "                queue.append(i+1)\n",
    "        queue.pop(0)\n",
    "    \n",
    "BFS(information, connection)"
   ]
  },
  {
   "cell_type": "code",
   "execution_count": 12,
   "metadata": {},
   "outputs": [
    {
     "name": "stdout",
     "output_type": "stream",
     "text": [
      "1\n",
      "2\n",
      "4\n",
      "3\n"
     ]
    }
   ],
   "source": [
    "import numpy as np\n",
    "information=[4,5,1]\n",
    "connection=[[1,2],[1,3],[1,4],[2,4],[3,4]]\n",
    "\n",
    "def DFS(information, connection):\n",
    "    matrix=np.zeros((information[0],information[0])) #노드 개수만큼 영행렬 만들어주기\n",
    "    for i in connection:\n",
    "        matrix[i[0]-1,i[1]-1]=1\n",
    "        matrix[i[1]-1,i[0]-1]=1\n",
    "    #print(matrix)\n",
    "    adj={}\n",
    "    for i in range(information[0]):\n",
    "        #print(i+1)\n",
    "        adj['{}'.format(i+1)]=[]\n",
    "        for j,k in connection:\n",
    "            #print(j,k)\n",
    "            tmp=[]\n",
    "            if j==i+1:\n",
    "                adj['{}'.format(i+1)].append(k)\n",
    "            elif k==i+1:\n",
    "                adj['{}'.format(i+1)].append(j)\n",
    "        adj['{}'.format(i+1)]=sorted(adj['{}'.format(i+1)])\n",
    "\n",
    "    check=list(np.zeros(information[0]))\n",
    "    stack=[]\n",
    "    stack.append(information[2])# 큐에 첫번째 방문 노드 넣기\n",
    "    check[information[2]-1]=1\n",
    "    #print(stack[-1])\n",
    "    #DFS 인접행렬\n",
    "    nodes=list(adj.keys())\n",
    "\n",
    "    while stack:\n",
    "        now=stack[-1]\n",
    "        print(now)\n",
    "        #print(stack)\n",
    "        for i in range(information[0]):#노드 개수만큼,,,(연결된 모든 노드를 확인한다는 말)\n",
    "            if (matrix[now-1][i]==1) & (check[i]!=1): #now와 연결되어있고, 아직 방문하지 않은 노드일 경우\n",
    "                check[i]=1 #방문한 다음\n",
    "                stack.append(i+1) #넣어주기\n",
    "                break\n",
    "            #print(adj[nodes[now-1]])\n",
    "            tmp=0\n",
    "            close=adj[nodes[now-1]]\n",
    "            for i in range(len(close)):\n",
    "                if check[close[i]-1]==1:\n",
    "                    tmp+=1\n",
    "            if tmp==len(close):\n",
    "                stack.pop(-1)\n",
    "        \n",
    "            #더 이상 방문할 노드가 없을 때(연결된 모든 노드가 방문되어있을 때)\n",
    "            # stack.pop(-1)#젤 뒤에꺼를 없애줌\n",
    "DFS(information, connection)"
   ]
  },
  {
   "cell_type": "markdown",
   "metadata": {},
   "source": [
    "# 단지번호 붙이기"
   ]
  },
  {
   "cell_type": "markdown",
   "metadata": {},
   "source": [
    "https://www.acmicpc.net/problem/2667"
   ]
  },
  {
   "cell_type": "code",
   "execution_count": 38,
   "metadata": {},
   "outputs": [
    {
     "data": {
      "text/plain": [
       "[[0, 1, 1, 0, 1, 0, 0],\n",
       " [0, 1, 1, 0, 1, 0, 1],\n",
       " [1, 1, 1, 0, 1, 0, 1],\n",
       " [0, 0, 0, 0, 1, 1, 1],\n",
       " [0, 1, 0, 0, 0, 0, 0],\n",
       " [0, 1, 1, 1, 1, 1, 0],\n",
       " [0, 1, 1, 1, 0, 0, 0]]"
      ]
     },
     "execution_count": 38,
     "metadata": {},
     "output_type": "execute_result"
    }
   ],
   "source": [
    "length=7\n",
    "road=[[0,1,1,0,1,0,0],\n",
    " [0,1,1,0,1,0,1],\n",
    " [1,1,1,0,1,0,1],\n",
    " [0,0,0,0,1,1,1],\n",
    " [0,1,0,0,0,0,0],\n",
    " [0,1,1,1,1,1,0],\n",
    " [0,1,1,1,0,0,0]]\n",
    "road"
   ]
  },
  {
   "cell_type": "code",
   "execution_count": 39,
   "metadata": {},
   "outputs": [],
   "source": [
    "import numpy as np\n",
    "\n",
    "cnt=0\n",
    "apartment=[]\n",
    "#단지의 수 = len(apartment)\n",
    "#세대 수 오름차순 정렬 = sort(apartment)\n",
    "\n",
    "dx=[-1,0,1,0]\n",
    "dy=[0,1,0,-1]\n",
    "\n",
    "#해당 세대 1일 경우(존재할 경우) 단지 개수를 세는 함수를 정의\n",
    "def danji(x,y,size,matrix):\n",
    "    global cnt #지역정의 오류때문에 global로 해결\n",
    "    matrix[x][y]=0 #방문한 노드이므로 0으로 바꿔주기\n",
    "    cnt+=1 #세대 수에 포함해서 개수 세어주기\n",
    "    #주변 확인\n",
    "    for i in range(4):\n",
    "        move_x=x+dx[i]\n",
    "        move_y=y+dy[i]\n",
    "        #상, 하, 좌, 우 한 칸 씩 움직인 친구들을 확인하기\n",
    "        if move_x < 0 or move_x >=size or move_y < 0 or move_y >=size:\n",
    "            continue\n",
    "        if road[move_x][move_y]==1:\n",
    "            danji(move_x,move_y,size,matrix)\n",
    "    return cnt"
   ]
  },
  {
   "cell_type": "code",
   "execution_count": 43,
   "metadata": {},
   "outputs": [
    {
     "name": "stdout",
     "output_type": "stream",
     "text": [
      "3\n",
      "[7, 8, 9]\n"
     ]
    }
   ],
   "source": [
    "for i in range(length):\n",
    "    for j in range(length):\n",
    "        if road[i][j]==1:\n",
    "            cnt=0\n",
    "            danji(i,j,length,road)\n",
    "            apartment.append(cnt)\n",
    "\n",
    "print(len(apartment)) #단지 수\n",
    "print(sorted(apartment)) #단지 내 세대 수 오름차순"
   ]
  },
  {
   "cell_type": "code",
   "execution_count": null,
   "metadata": {},
   "outputs": [],
   "source": []
  }
 ],
 "metadata": {
  "kernelspec": {
   "display_name": "Python 3",
   "language": "python",
   "name": "python3"
  },
  "language_info": {
   "codemirror_mode": {
    "name": "ipython",
    "version": 3
   },
   "file_extension": ".py",
   "mimetype": "text/x-python",
   "name": "python",
   "nbconvert_exporter": "python",
   "pygments_lexer": "ipython3",
   "version": "3.8.5"
  }
 },
 "nbformat": 4,
 "nbformat_minor": 4
}
