{
 "cells": [
  {
   "cell_type": "markdown",
   "metadata": {},
   "source": [
    "# Insertion Sort"
   ]
  },
  {
   "cell_type": "code",
   "execution_count": 277,
   "metadata": {},
   "outputs": [
    {
     "data": {
      "text/plain": [
       "[2, 3, 4, 6, 10, 12, 15]"
      ]
     },
     "execution_count": 277,
     "metadata": {},
     "output_type": "execute_result"
    }
   ],
   "source": [
    "list1=[4,3,2,10,12,15,6]\n",
    "def insertion_sort(list):\n",
    "    for i in range(len(list)):\n",
    "        for r in range(i,0,-1):\n",
    "            if list[r-1]>list[r]:\n",
    "                list[r-1],list[r]=list[r],list[r-1]\n",
    "            else:\n",
    "                break\n",
    "    return list\n",
    "\n",
    "insertion_sort(list1)"
   ]
  },
  {
   "cell_type": "markdown",
   "metadata": {},
   "source": [
    "# Merge Sort"
   ]
  },
  {
   "cell_type": "code",
   "execution_count": 286,
   "metadata": {},
   "outputs": [],
   "source": [
    "list2=[21,10,12,20,25,13,14]\n",
    "\n",
    "def merge(left, right):\n",
    "    empty = []\n",
    "    left_idx=0\n",
    "    right_idx=0\n",
    "    while (left_idx<len(left) and right_idx<len(right)):\n",
    "        if left[left_idx]<right[right_idx]:\n",
    "            empty.append(left[left_idx])\n",
    "            left_idx+=1\n",
    "        else:\n",
    "            empty.append(right[right_idx])\n",
    "            right_idx+=1\n",
    "    if len(left)==left_idx:\n",
    "        empty=empty+right[right_idx:]\n",
    "    if len(right)==right_idx:\n",
    "        empty=empty+left[left_idx:]\n",
    "    return empty\n",
    "    "
   ]
  },
  {
   "cell_type": "code",
   "execution_count": 287,
   "metadata": {},
   "outputs": [
    {
     "data": {
      "text/plain": [
       "[10, 12, 13, 14, 20, 21, 25]"
      ]
     },
     "execution_count": 287,
     "metadata": {},
     "output_type": "execute_result"
    }
   ],
   "source": [
    "def merge_sort(list):\n",
    "    if len(list) <= 1:\n",
    "        return list\n",
    "    left = list[:len(list) // 2]\n",
    "    right = list[len(list) // 2:]\n",
    "    left = merge_sort(left)\n",
    "    right = merge_sort(right)\n",
    "    return merge(left, right)\n",
    "\n",
    "merge_sort(list2)"
   ]
  },
  {
   "cell_type": "code",
   "execution_count": null,
   "metadata": {},
   "outputs": [],
   "source": []
  }
 ],
 "metadata": {
  "kernelspec": {
   "display_name": "Python 3",
   "language": "python",
   "name": "python3"
  },
  "language_info": {
   "codemirror_mode": {
    "name": "ipython",
    "version": 3
   },
   "file_extension": ".py",
   "mimetype": "text/x-python",
   "name": "python",
   "nbconvert_exporter": "python",
   "pygments_lexer": "ipython3",
   "version": "3.8.5"
  }
 },
 "nbformat": 4,
 "nbformat_minor": 4
}
