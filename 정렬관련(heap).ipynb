{
 "cells": [
  {
   "cell_type": "markdown",
   "metadata": {},
   "source": [
    "# Problem1"
   ]
  },
  {
   "cell_type": "markdown",
   "metadata": {},
   "source": [
    "https://leetcode.com/problems/merge-intervals/"
   ]
  },
  {
   "cell_type": "code",
   "execution_count": 92,
   "metadata": {},
   "outputs": [],
   "source": [
    "#intervals = [[1,3],[2,6],[8,10],[15,18]]\n",
    "#intervals = [[1,4],[4,5]]\n",
    "\n",
    "def merge(intervals):\n",
    "    index=0\n",
    "    while intervals[index] != intervals[-1]:\n",
    "        if intervals[index][1]<intervals[index+1][0]:\n",
    "            index=index+1\n",
    "        elif intervals[index][1]>=intervals[index+1][0]:\n",
    "            merged=[intervals[index][0],intervals[index+1][1]]\n",
    "            intervals.pop(index)\n",
    "            intervals.pop(index)\n",
    "            intervals.insert(index,merged)\n",
    "            while intervals[index]!=intervals[-1]:\n",
    "                index=index+1\n",
    "                break\n",
    "    return(intervals)\n"
   ]
  },
  {
   "cell_type": "code",
   "execution_count": 93,
   "metadata": {},
   "outputs": [
    {
     "data": {
      "text/plain": [
       "[[1, 6], [8, 10], [15, 18]]"
      ]
     },
     "execution_count": 93,
     "metadata": {},
     "output_type": "execute_result"
    }
   ],
   "source": [
    "merge(intervals)"
   ]
  },
  {
   "cell_type": "markdown",
   "metadata": {},
   "source": [
    "# Problem2"
   ]
  },
  {
   "cell_type": "markdown",
   "metadata": {},
   "source": [
    "https://leetcode.com/problems/number-of-subsequences-that-satisfy-the-given-sum-condition/"
   ]
  },
  {
   "cell_type": "code",
   "execution_count": 94,
   "metadata": {},
   "outputs": [],
   "source": [
    "def numSubseq(nums, target):\n",
    "    nums.sort()\n",
    "    minimum=0\n",
    "    maximum=len(nums)-1\n",
    "    answer=0\n",
    "    while minimum<= maximum:\n",
    "        if nums[minimum]+nums[maximum]>target:\n",
    "            maximum=maximum-1\n",
    "        elif nums[minimum]+nums[maximum]<=target:\n",
    "            answer = answer + 2**(maximum-minimum)\n",
    "            minimum=minimum+1\n",
    "    return answer"
   ]
  },
  {
   "cell_type": "code",
   "execution_count": 95,
   "metadata": {},
   "outputs": [
    {
     "name": "stdout",
     "output_type": "stream",
     "text": [
      "4\n",
      "6\n",
      "61\n",
      "127\n"
     ]
    }
   ],
   "source": [
    "print(numSubseq(nums = [3,5,6,7], target = 9))\n",
    "print(numSubseq(nums = [3,3,6,8], target = 10))\n",
    "print(numSubseq(nums = [2,3,3,4,6,7], target = 12))\n",
    "print(numSubseq(nums = [5,2,4,1,7,6,8], target = 16))"
   ]
  },
  {
   "cell_type": "markdown",
   "metadata": {},
   "source": [
    "# Problem3"
   ]
  },
  {
   "cell_type": "markdown",
   "metadata": {},
   "source": [
    "https://programmers.co.kr/learn/courses/30/lessons/42747?language=python3"
   ]
  },
  {
   "cell_type": "code",
   "execution_count": 96,
   "metadata": {},
   "outputs": [],
   "source": [
    "def solution(citations):\n",
    "    answer = 0\n",
    "    for i in range(10000):\n",
    "        over=[]\n",
    "        lesser=[]\n",
    "        citations.sort()\n",
    "        for j in citations:\n",
    "            if j>=answer:\n",
    "                 over.append(j)\n",
    "            else:\n",
    "                lesser.append(j)\n",
    "        if (len(over)>=answer) & (len(lesser)<=answer):\n",
    "            answer+=1\n",
    "        else:\n",
    "            answer-=1\n",
    "            break\n",
    "    return answer"
   ]
  },
  {
   "cell_type": "code",
   "execution_count": 97,
   "metadata": {},
   "outputs": [
    {
     "data": {
      "text/plain": [
       "3"
      ]
     },
     "execution_count": 97,
     "metadata": {},
     "output_type": "execute_result"
    }
   ],
   "source": [
    "solution([3, 0, 6, 1, 5])"
   ]
  },
  {
   "cell_type": "markdown",
   "metadata": {},
   "source": [
    "# Problem4"
   ]
  },
  {
   "cell_type": "markdown",
   "metadata": {},
   "source": [
    "https://programmers.co.kr/learn/courses/30/lessons/42626"
   ]
  },
  {
   "cell_type": "code",
   "execution_count": 159,
   "metadata": {},
   "outputs": [],
   "source": [
    "import heapq\n",
    "scoville=[1, 2, 3, 9, 10, 12]\n",
    "def solution(scoville,K):\n",
    "    answer=0\n",
    "    heapq.heapify(scoville)\n",
    "    mixing=[]\n",
    "    while scoville[0]<K:\n",
    "        if len(scoville)==1:\n",
    "            answer=-1\n",
    "            break\n",
    "        else:\n",
    "            for i in range(2):\n",
    "                mixing.append(scoville[0])\n",
    "                heapq.heappop(scoville)\n",
    "            mixed = mixing[0]+mixing[1]*2\n",
    "            mixing=[]\n",
    "            heapq.heappush(scoville, mixed)\n",
    "            answer+=1\n",
    "    return answer"
   ]
  },
  {
   "cell_type": "code",
   "execution_count": 161,
   "metadata": {},
   "outputs": [
    {
     "data": {
      "text/plain": [
       "2"
      ]
     },
     "execution_count": 161,
     "metadata": {},
     "output_type": "execute_result"
    }
   ],
   "source": [
    "solution(scoville=[1, 2, 3, 9, 10, 12],K=7)"
   ]
  },
  {
   "cell_type": "code",
   "execution_count": null,
   "metadata": {},
   "outputs": [],
   "source": []
  }
 ],
 "metadata": {
  "kernelspec": {
   "display_name": "Python 3",
   "language": "python",
   "name": "python3"
  },
  "language_info": {
   "codemirror_mode": {
    "name": "ipython",
    "version": 3
   },
   "file_extension": ".py",
   "mimetype": "text/x-python",
   "name": "python",
   "nbconvert_exporter": "python",
   "pygments_lexer": "ipython3",
   "version": "3.8.5"
  }
 },
 "nbformat": 4,
 "nbformat_minor": 4
}
